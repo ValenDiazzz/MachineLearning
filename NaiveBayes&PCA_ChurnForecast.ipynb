{
 "cells": [
  {
   "cell_type": "markdown",
   "metadata": {},
   "source": [
    "### NaiveBayes and PCA using Iranian telecom dataset for Churn forecast "
   ]
  },
  {
   "cell_type": "markdown",
   "metadata": {},
   "source": [
    "Dataset: https://archive.ics.uci.edu/dataset/563/iranian+churn+dataset"
   ]
  },
  {
   "cell_type": "code",
   "execution_count": 1,
   "metadata": {},
   "outputs": [],
   "source": [
    "import numpy as np\n",
    "import pandas as pd\n",
    "from sklearn.model_selection import train_test_split\n",
    "from sklearn.preprocessing import StandardScaler\n",
    "from sklearn.naive_bayes import GaussianNB\n",
    "from sklearn.decomposition import PCA\n",
    "from sklearn.metrics import classification_report, confusion_matrix, ConfusionMatrixDisplay"
   ]
  },
  {
   "cell_type": "markdown",
   "metadata": {},
   "source": [
    "#### Data Preparation"
   ]
  },
  {
   "cell_type": "code",
   "execution_count": 2,
   "metadata": {},
   "outputs": [
    {
     "name": "stdout",
     "output_type": "stream",
     "text": [
      "<class 'pandas.core.frame.DataFrame'>\n",
      "RangeIndex: 3150 entries, 0 to 3149\n",
      "Data columns (total 14 columns):\n",
      " #   Column                   Non-Null Count  Dtype  \n",
      "---  ------                   --------------  -----  \n",
      " 0   Call  Failure            3150 non-null   int64  \n",
      " 1   Complains                3150 non-null   int64  \n",
      " 2   Subscription  Length     3150 non-null   int64  \n",
      " 3   Charge  Amount           3150 non-null   int64  \n",
      " 4   Seconds of Use           3150 non-null   int64  \n",
      " 5   Frequency of use         3150 non-null   int64  \n",
      " 6   Frequency of SMS         3150 non-null   int64  \n",
      " 7   Distinct Called Numbers  3150 non-null   int64  \n",
      " 8   Age Group                3150 non-null   int64  \n",
      " 9   Tariff Plan              3150 non-null   int64  \n",
      " 10  Status                   3150 non-null   int64  \n",
      " 11  Age                      3150 non-null   int64  \n",
      " 12  Customer Value           3150 non-null   float64\n",
      " 13  Churn                    3150 non-null   int64  \n",
      "dtypes: float64(1), int64(13)\n",
      "memory usage: 344.7 KB\n"
     ]
    }
   ],
   "source": [
    "data= pd.read_csv('CustomerChurn.csv')\n",
    "data.info()"
   ]
  },
  {
   "cell_type": "code",
   "execution_count": 3,
   "metadata": {},
   "outputs": [
    {
     "name": "stdout",
     "output_type": "stream",
     "text": [
      "Cases number: 3150\n",
      "\n",
      "Non-Churn : 2655\n",
      "Churn: 495\n",
      "Non-Churn Proportion: 0.8428571428571429\n",
      "Churn Proportion: 0.15714285714285714\n"
     ]
    }
   ],
   "source": [
    "print('Cases number:',data.shape[0])\n",
    "print('\\nNon-Churn :',data[data['Churn'] == 0].shape[0])\n",
    "print('Churn:',data[data['Churn'] == 1].shape[0])\n",
    "print('Non-Churn Proportion:',data[data['Churn'] == 0].shape[0]/data.shape[0])\n",
    "print('Churn Proportion:',data[data['Churn'] == 1].shape[0]/data.shape[0])"
   ]
  },
  {
   "cell_type": "code",
   "execution_count": 4,
   "metadata": {},
   "outputs": [],
   "source": [
    "labels= data['Churn'].values\n",
    "data= data.iloc[:,:-1] "
   ]
  },
  {
   "cell_type": "markdown",
   "metadata": {},
   "source": [
    "#### Naive Bayes"
   ]
  },
  {
   "cell_type": "code",
   "execution_count": 5,
   "metadata": {},
   "outputs": [
    {
     "name": "stdout",
     "output_type": "stream",
     "text": [
      "Non-Churn test Proportion: 0.8428571428571429\n",
      "Churn test Proportion: 0.15714285714285714\n",
      "------------------------------------------------------\n",
      "              precision    recall  f1-score   support\n",
      "\n",
      "   Non-Churn       0.99      0.70      0.82       531\n",
      "       Churn       0.38      0.97      0.55        99\n",
      "\n",
      "    accuracy                           0.75       630\n",
      "   macro avg       0.69      0.84      0.68       630\n",
      "weighted avg       0.90      0.75      0.78       630\n",
      "\n"
     ]
    },
    {
     "data": {
      "text/plain": [
       "<sklearn.metrics._plot.confusion_matrix.ConfusionMatrixDisplay at 0x16f5fffc990>"
      ]
     },
     "execution_count": 5,
     "metadata": {},
     "output_type": "execute_result"
    },
    {
     "data": {
      "image/png": "[encoded data removed]",
      "text/plain": [
       "<Figure size 640x480 with 2 Axes>"
      ]
     },
     "metadata": {},
     "output_type": "display_data"
    }
   ],
   "source": [
    "#Data splitting for training\n",
    "X_train, X_test, y_train, y_test = train_test_split(\n",
    "    data.values, labels, test_size = 0.20, stratify= labels, random_state=77\n",
    ")\n",
    "\n",
    "print('Non-Churn test Proportion:',1 - sum(y_test)/len(y_test))\n",
    "print('Churn test Proportion:',sum(y_test)/len(y_test))\n",
    "print('------------------------------------------------------')\n",
    "\n",
    "\n",
    "#Estandarizamos los datos\n",
    "scaler= StandardScaler()\n",
    "norm_X_train= scaler.fit_transform(X_train) \n",
    "norm_X_test= scaler.transform(X_test) \n",
    "\n",
    "#Prediction\n",
    "model= GaussianNB()\n",
    "model.fit(norm_X_train, y_train)\n",
    "y_pred= model.predict(norm_X_test)\n",
    "\n",
    "#Results\n",
    "print(classification_report(y_test, y_pred, target_names=['Non-Churn','Churn']))\n",
    "cm= confusion_matrix(y_test, y_pred)\n",
    "disp= ConfusionMatrixDisplay(confusion_matrix=cm, display_labels=['Non-Churn','Churn'])\n",
    "disp.plot()"
   ]
  },
  {
   "cell_type": "markdown",
   "metadata": {},
   "source": [
    "#### PCA + Naive Bayes"
   ]
  },
  {
   "cell_type": "code",
   "execution_count": 6,
   "metadata": {},
   "outputs": [
    {
     "name": "stdout",
     "output_type": "stream",
     "text": [
      "PCA explained variance ratio (first ten components): [0.30665437 0.18003081 0.12518322 0.09459871 0.0918556  0.06343691\n",
      " 0.044861   0.03726326 0.0295133  0.02067327]\n"
     ]
    }
   ],
   "source": [
    "#dimension reduction first 10 components\n",
    "pca= PCA(n_components=10)\n",
    "X_train= pca.fit_transform(norm_X_train)\n",
    "X_test= pca.transform(norm_X_test)\n",
    "\n",
    "print(f\"PCA explained variance ratio (first ten components): {pca.explained_variance_ratio_}\")"
   ]
  },
  {
   "cell_type": "code",
   "execution_count": 7,
   "metadata": {},
   "outputs": [
    {
     "name": "stdout",
     "output_type": "stream",
     "text": [
      "---------------- nº of components: 3 ----------------\n",
      "              precision    recall  f1-score   support\n",
      "\n",
      "   Non-Churn       0.94      0.88      0.91       531\n",
      "       Churn       0.51      0.71      0.60        99\n",
      "\n",
      "    accuracy                           0.85       630\n",
      "   macro avg       0.73      0.79      0.75       630\n",
      "weighted avg       0.87      0.85      0.86       630\n",
      "\n",
      "\n",
      "\n",
      "---------------- nº of components: 4 ----------------\n",
      "              precision    recall  f1-score   support\n",
      "\n",
      "   Non-Churn       0.92      0.88      0.90       531\n",
      "       Churn       0.49      0.62      0.55        99\n",
      "\n",
      "    accuracy                           0.84       630\n",
      "   macro avg       0.71      0.75      0.72       630\n",
      "weighted avg       0.86      0.84      0.85       630\n",
      "\n",
      "\n",
      "\n",
      "---------------- nº of components: 5 ----------------\n",
      "              precision    recall  f1-score   support\n",
      "\n",
      "   Non-Churn       0.91      0.94      0.92       531\n",
      "       Churn       0.60      0.51      0.55        99\n",
      "\n",
      "    accuracy                           0.87       630\n",
      "   macro avg       0.76      0.72      0.74       630\n",
      "weighted avg       0.86      0.87      0.87       630\n",
      "\n",
      "\n",
      "\n",
      "---------------- nº of components: 6 ----------------\n",
      "              precision    recall  f1-score   support\n",
      "\n",
      "   Non-Churn       0.90      0.99      0.94       531\n",
      "       Churn       0.87      0.41      0.56        99\n",
      "\n",
      "    accuracy                           0.90       630\n",
      "   macro avg       0.89      0.70      0.75       630\n",
      "weighted avg       0.90      0.90      0.88       630\n",
      "\n",
      "\n",
      "\n",
      "---------------- nº of components: 7 ----------------\n",
      "              precision    recall  f1-score   support\n",
      "\n",
      "   Non-Churn       0.90      0.99      0.94       531\n",
      "       Churn       0.87      0.41      0.56        99\n",
      "\n",
      "    accuracy                           0.90       630\n",
      "   macro avg       0.89      0.70      0.75       630\n",
      "weighted avg       0.90      0.90      0.88       630\n",
      "\n",
      "\n",
      "\n",
      "---------------- nº of components: 8 ----------------\n",
      "              precision    recall  f1-score   support\n",
      "\n",
      "   Non-Churn       0.91      0.96      0.94       531\n",
      "       Churn       0.72      0.48      0.58        99\n",
      "\n",
      "    accuracy                           0.89       630\n",
      "   macro avg       0.81      0.72      0.76       630\n",
      "weighted avg       0.88      0.89      0.88       630\n",
      "\n",
      "\n",
      "\n"
     ]
    }
   ],
   "source": [
    "for c in range(3,9):\n",
    "    X_trainc= X_train[:,:c]\n",
    "    X_testc= X_test[:,:c]\n",
    "    #Prediction\n",
    "    model.fit(X_trainc, y_train)\n",
    "    y_pred= model.predict(X_testc)\n",
    "\n",
    "    #Results\n",
    "    print(f\"---------------- nº of components: {c} ----------------\")\n",
    "    print(classification_report(y_test, y_pred, target_names=['Non-Churn','Churn']))\n",
    "    print(\"\\n\")"
   ]
  }
 ],
 "metadata": {
  "kernelspec": {
   "display_name": "Python 3",
   "language": "python",
   "name": "python3"
  },
  "language_info": {
   "codemirror_mode": {
    "name": "ipython",
    "version": 3
   },
   "file_extension": ".py",
   "mimetype": "text/x-python",
   "name": "python",
   "nbconvert_exporter": "python",
   "pygments_lexer": "ipython3",
   "version": "3.11.5"
  }
 },
 "nbformat": 4,
 "nbformat_minor": 2
}

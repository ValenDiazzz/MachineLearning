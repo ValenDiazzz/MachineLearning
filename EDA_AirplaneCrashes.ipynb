{
  "cells": [
    {
      "cell_type": "markdown",
      "metadata": {},
      "source": [
        "### Exploratory Data Analysis of \"Airplane Crashes and Fatalities\" dataset"
      ]
    },
    {
      "cell_type": "code",
      "execution_count": 1,
      "metadata": {
        "id": "UGUXtc2OPhpZ"
      },
      "outputs": [],
      "source": [
        "import pandas as pd\n",
        "import matplotlib.pyplot as plt\n",
        "import seaborn as sns\n",
        "import numpy as np"
      ]
    },
    {
      "cell_type": "code",
      "execution_count": 2,
      "metadata": {
        "id": "CJb_YeQ8SvyD"
      },
      "outputs": [],
      "source": [
        "plt.style.use('dark_background')"
      ]
    },
    {
      "cell_type": "markdown",
      "metadata": {
        "id": "fdbDecsUSrl9"
      },
      "source": [
        "#### Data Preparation"
      ]
    },
    {
      "cell_type": "markdown",
      "metadata": {},
      "source": [
        "Data from: https://www.kaggle.com/datasets/nayansubedi1/airplane-crashes-and-fatalities-upto-2023"
      ]
    },
    {
      "cell_type": "code",
      "execution_count": 3,
      "metadata": {
        "colab": {
          "base_uri": "https://localhost:8080/"
        },
        "id": "BFR8s8LBPhpd",
        "outputId": "95ee6feb-c512-4d61-ce45-da530ac6bc55"
      },
      "outputs": [],
      "source": [
        "data= pd.read_csv('Airplane_Crashes_and_Fatalities_Since_1908_t0_2023.csv', encoding='latin1', parse_dates=True)"
      ]
    },
    {
      "cell_type": "code",
      "execution_count": 4,
      "metadata": {
        "colab": {
          "base_uri": "https://localhost:8080/"
        },
        "id": "YqG9Ydt-S2Ww",
        "outputId": "f243eefb-bea1-4302-8d11-ecd9b722220f"
      },
      "outputs": [
        {
          "name": "stdout",
          "output_type": "stream",
          "text": [
            "<class 'pandas.core.frame.DataFrame'>\n",
            "RangeIndex: 4998 entries, 0 to 4997\n",
            "Data columns (total 17 columns):\n",
            " #   Column                 Non-Null Count  Dtype  \n",
            "---  ------                 --------------  -----  \n",
            " 0   Date                   4998 non-null   object \n",
            " 1   Time                   3486 non-null   object \n",
            " 2   Location               4994 non-null   object \n",
            " 3   Operator               4988 non-null   object \n",
            " 4   Flight #               1329 non-null   object \n",
            " 5   Route                  4221 non-null   object \n",
            " 6   AC Type                4983 non-null   object \n",
            " 7   Registration           4724 non-null   object \n",
            " 8   cn/ln                  4330 non-null   object \n",
            " 9   Aboard                 4980 non-null   float64\n",
            " 10  Aboard Passangers      4769 non-null   float64\n",
            " 11  Aboard Crew            4772 non-null   float64\n",
            " 12  Fatalities             4990 non-null   float64\n",
            " 13  Fatalities Passangers  4756 non-null   float64\n",
            " 14  Fatalities Crew        4757 non-null   float64\n",
            " 15  Ground                 4956 non-null   float64\n",
            " 16  Summary                4934 non-null   object \n",
            "dtypes: float64(7), object(10)\n",
            "memory usage: 663.9+ KB\n"
          ]
        }
      ],
      "source": [
        "data.info()"
      ]
    },
    {
      "cell_type": "code",
      "execution_count": 5,
      "metadata": {
        "colab": {
          "base_uri": "https://localhost:8080/",
          "height": 300
        },
        "id": "edkR6ZFhTIsb",
        "outputId": "d890237c-5bbe-44af-ea88-82e7a26b94af"
      },
      "outputs": [
        {
          "data": {
            "text/html": [
              "<div>\n",
              "<style scoped>\n",
              "    .dataframe tbody tr th:only-of-type {\n",
              "        vertical-align: middle;\n",
              "    }\n",
              "\n",
              "    .dataframe tbody tr th {\n",
              "        vertical-align: top;\n",
              "    }\n",
              "\n",
              "    .dataframe thead th {\n",
              "        text-align: right;\n",
              "    }\n",
              "</style>\n",
              "<table border=\"1\" class=\"dataframe\">\n",
              "  <thead>\n",
              "    <tr style=\"text-align: right;\">\n",
              "      <th></th>\n",
              "      <th>Aboard</th>\n",
              "      <th>Aboard Passangers</th>\n",
              "      <th>Aboard Crew</th>\n",
              "      <th>Fatalities</th>\n",
              "      <th>Fatalities Passangers</th>\n",
              "      <th>Fatalities Crew</th>\n",
              "      <th>Ground</th>\n",
              "    </tr>\n",
              "  </thead>\n",
              "  <tbody>\n",
              "    <tr>\n",
              "      <th>count</th>\n",
              "      <td>4980.000000</td>\n",
              "      <td>4769.000000</td>\n",
              "      <td>4772.000000</td>\n",
              "      <td>4990.000000</td>\n",
              "      <td>4756.000000</td>\n",
              "      <td>4757.000000</td>\n",
              "      <td>4956.000000</td>\n",
              "    </tr>\n",
              "    <tr>\n",
              "      <th>mean</th>\n",
              "      <td>31.195984</td>\n",
              "      <td>27.009017</td>\n",
              "      <td>4.479254</td>\n",
              "      <td>22.373547</td>\n",
              "      <td>19.053827</td>\n",
              "      <td>3.578516</td>\n",
              "      <td>1.719128</td>\n",
              "    </tr>\n",
              "    <tr>\n",
              "      <th>std</th>\n",
              "      <td>45.534788</td>\n",
              "      <td>44.111609</td>\n",
              "      <td>3.483859</td>\n",
              "      <td>35.061741</td>\n",
              "      <td>34.146127</td>\n",
              "      <td>3.167922</td>\n",
              "      <td>55.540273</td>\n",
              "    </tr>\n",
              "    <tr>\n",
              "      <th>min</th>\n",
              "      <td>0.000000</td>\n",
              "      <td>0.000000</td>\n",
              "      <td>0.000000</td>\n",
              "      <td>0.000000</td>\n",
              "      <td>0.000000</td>\n",
              "      <td>0.000000</td>\n",
              "      <td>0.000000</td>\n",
              "    </tr>\n",
              "    <tr>\n",
              "      <th>25%</th>\n",
              "      <td>7.000000</td>\n",
              "      <td>3.000000</td>\n",
              "      <td>2.000000</td>\n",
              "      <td>4.000000</td>\n",
              "      <td>1.000000</td>\n",
              "      <td>2.000000</td>\n",
              "      <td>0.000000</td>\n",
              "    </tr>\n",
              "    <tr>\n",
              "      <th>50%</th>\n",
              "      <td>16.000000</td>\n",
              "      <td>12.000000</td>\n",
              "      <td>4.000000</td>\n",
              "      <td>11.000000</td>\n",
              "      <td>8.000000</td>\n",
              "      <td>3.000000</td>\n",
              "      <td>0.000000</td>\n",
              "    </tr>\n",
              "    <tr>\n",
              "      <th>75%</th>\n",
              "      <td>35.000000</td>\n",
              "      <td>30.000000</td>\n",
              "      <td>6.000000</td>\n",
              "      <td>25.000000</td>\n",
              "      <td>21.000000</td>\n",
              "      <td>5.000000</td>\n",
              "      <td>0.000000</td>\n",
              "    </tr>\n",
              "    <tr>\n",
              "      <th>max</th>\n",
              "      <td>644.000000</td>\n",
              "      <td>614.000000</td>\n",
              "      <td>61.000000</td>\n",
              "      <td>583.000000</td>\n",
              "      <td>560.000000</td>\n",
              "      <td>46.000000</td>\n",
              "      <td>2750.000000</td>\n",
              "    </tr>\n",
              "  </tbody>\n",
              "</table>\n",
              "</div>"
            ],
            "text/plain": [
              "            Aboard  Aboard Passangers  Aboard Crew   Fatalities  \\\n",
              "count  4980.000000        4769.000000  4772.000000  4990.000000   \n",
              "mean     31.195984          27.009017     4.479254    22.373547   \n",
              "std      45.534788          44.111609     3.483859    35.061741   \n",
              "min       0.000000           0.000000     0.000000     0.000000   \n",
              "25%       7.000000           3.000000     2.000000     4.000000   \n",
              "50%      16.000000          12.000000     4.000000    11.000000   \n",
              "75%      35.000000          30.000000     6.000000    25.000000   \n",
              "max     644.000000         614.000000    61.000000   583.000000   \n",
              "\n",
              "       Fatalities Passangers  Fatalities Crew       Ground  \n",
              "count            4756.000000      4757.000000  4956.000000  \n",
              "mean               19.053827         3.578516     1.719128  \n",
              "std                34.146127         3.167922    55.540273  \n",
              "min                 0.000000         0.000000     0.000000  \n",
              "25%                 1.000000         2.000000     0.000000  \n",
              "50%                 8.000000         3.000000     0.000000  \n",
              "75%                21.000000         5.000000     0.000000  \n",
              "max               560.000000        46.000000  2750.000000  "
            ]
          },
          "execution_count": 5,
          "metadata": {},
          "output_type": "execute_result"
        }
      ],
      "source": [
        "data.describe()"
      ]
    },
    {
      "cell_type": "code",
      "execution_count": 6,
      "metadata": {
        "colab": {
          "base_uri": "https://localhost:8080/",
          "height": 504
        },
        "id": "dBPwJBmDPhpf",
        "outputId": "84c37518-ee73-4e31-9d5b-9d4bfdee7581"
      },
      "outputs": [
        {
          "data": {
            "text/html": [
              "<div>\n",
              "<style scoped>\n",
              "    .dataframe tbody tr th:only-of-type {\n",
              "        vertical-align: middle;\n",
              "    }\n",
              "\n",
              "    .dataframe tbody tr th {\n",
              "        vertical-align: top;\n",
              "    }\n",
              "\n",
              "    .dataframe thead th {\n",
              "        text-align: right;\n",
              "    }\n",
              "</style>\n",
              "<table border=\"1\" class=\"dataframe\">\n",
              "  <thead>\n",
              "    <tr style=\"text-align: right;\">\n",
              "      <th></th>\n",
              "      <th>Date</th>\n",
              "      <th>Time</th>\n",
              "      <th>Location</th>\n",
              "      <th>Operator</th>\n",
              "      <th>Flight #</th>\n",
              "      <th>Route</th>\n",
              "      <th>AC Type</th>\n",
              "      <th>Registration</th>\n",
              "      <th>cn/ln</th>\n",
              "      <th>Aboard</th>\n",
              "      <th>Aboard Passangers</th>\n",
              "      <th>Aboard Crew</th>\n",
              "      <th>Fatalities</th>\n",
              "      <th>Fatalities Passangers</th>\n",
              "      <th>Fatalities Crew</th>\n",
              "      <th>Ground</th>\n",
              "      <th>Summary</th>\n",
              "    </tr>\n",
              "  </thead>\n",
              "  <tbody>\n",
              "    <tr>\n",
              "      <th>0</th>\n",
              "      <td>9/17/1908</td>\n",
              "      <td>17:18</td>\n",
              "      <td>Fort Myer, Virginia</td>\n",
              "      <td>Military - U.S. Army</td>\n",
              "      <td>NaN</td>\n",
              "      <td>Demonstration</td>\n",
              "      <td>Wright Flyer III</td>\n",
              "      <td>NaN</td>\n",
              "      <td>1</td>\n",
              "      <td>2.0</td>\n",
              "      <td>1.0</td>\n",
              "      <td>1.0</td>\n",
              "      <td>1.0</td>\n",
              "      <td>1.0</td>\n",
              "      <td>0.0</td>\n",
              "      <td>0.0</td>\n",
              "      <td>During a demonstration flight, a U.S. Army fly...</td>\n",
              "    </tr>\n",
              "    <tr>\n",
              "      <th>1</th>\n",
              "      <td>9/7/1909</td>\n",
              "      <td>NaN</td>\n",
              "      <td>Juvisy-sur-Orge, France</td>\n",
              "      <td>NaN</td>\n",
              "      <td>NaN</td>\n",
              "      <td>Air show</td>\n",
              "      <td>Wright Byplane</td>\n",
              "      <td>SC1</td>\n",
              "      <td>NaN</td>\n",
              "      <td>1.0</td>\n",
              "      <td>0.0</td>\n",
              "      <td>1.0</td>\n",
              "      <td>1.0</td>\n",
              "      <td>0.0</td>\n",
              "      <td>0.0</td>\n",
              "      <td>0.0</td>\n",
              "      <td>Eugene Lefebvre was the first pilot to ever be...</td>\n",
              "    </tr>\n",
              "    <tr>\n",
              "      <th>2</th>\n",
              "      <td>7/12/1912</td>\n",
              "      <td>6:30</td>\n",
              "      <td>Atlantic City, New Jersey</td>\n",
              "      <td>Military - U.S. Navy</td>\n",
              "      <td>NaN</td>\n",
              "      <td>Test flight</td>\n",
              "      <td>Dirigible</td>\n",
              "      <td>NaN</td>\n",
              "      <td>NaN</td>\n",
              "      <td>5.0</td>\n",
              "      <td>0.0</td>\n",
              "      <td>5.0</td>\n",
              "      <td>5.0</td>\n",
              "      <td>0.0</td>\n",
              "      <td>5.0</td>\n",
              "      <td>0.0</td>\n",
              "      <td>First U.S. dirigible Akron exploded just offsh...</td>\n",
              "    </tr>\n",
              "    <tr>\n",
              "      <th>3</th>\n",
              "      <td>8/6/1913</td>\n",
              "      <td>NaN</td>\n",
              "      <td>Victoria, British Columbia, Canada</td>\n",
              "      <td>Private</td>\n",
              "      <td>NaN</td>\n",
              "      <td>NaN</td>\n",
              "      <td>Curtiss seaplane</td>\n",
              "      <td>NaN</td>\n",
              "      <td>NaN</td>\n",
              "      <td>1.0</td>\n",
              "      <td>0.0</td>\n",
              "      <td>1.0</td>\n",
              "      <td>1.0</td>\n",
              "      <td>0.0</td>\n",
              "      <td>1.0</td>\n",
              "      <td>0.0</td>\n",
              "      <td>The first fatal airplane accident in Canada oc...</td>\n",
              "    </tr>\n",
              "    <tr>\n",
              "      <th>4</th>\n",
              "      <td>9/9/1913</td>\n",
              "      <td>18:30</td>\n",
              "      <td>Over the North Sea</td>\n",
              "      <td>Military - German Navy</td>\n",
              "      <td>NaN</td>\n",
              "      <td>NaN</td>\n",
              "      <td>Zeppelin L-1 (airship)</td>\n",
              "      <td>NaN</td>\n",
              "      <td>NaN</td>\n",
              "      <td>20.0</td>\n",
              "      <td>NaN</td>\n",
              "      <td>NaN</td>\n",
              "      <td>14.0</td>\n",
              "      <td>NaN</td>\n",
              "      <td>NaN</td>\n",
              "      <td>0.0</td>\n",
              "      <td>The airship flew into a thunderstorm and encou...</td>\n",
              "    </tr>\n",
              "  </tbody>\n",
              "</table>\n",
              "</div>"
            ],
            "text/plain": [
              "        Date   Time                            Location  \\\n",
              "0  9/17/1908  17:18                 Fort Myer, Virginia   \n",
              "1   9/7/1909    NaN             Juvisy-sur-Orge, France   \n",
              "2  7/12/1912   6:30           Atlantic City, New Jersey   \n",
              "3   8/6/1913    NaN  Victoria, British Columbia, Canada   \n",
              "4   9/9/1913  18:30                  Over the North Sea   \n",
              "\n",
              "                 Operator Flight #          Route                 AC Type  \\\n",
              "0    Military - U.S. Army      NaN  Demonstration        Wright Flyer III   \n",
              "1                     NaN      NaN       Air show          Wright Byplane   \n",
              "2    Military - U.S. Navy      NaN    Test flight               Dirigible   \n",
              "3                 Private      NaN            NaN        Curtiss seaplane   \n",
              "4  Military - German Navy      NaN            NaN  Zeppelin L-1 (airship)   \n",
              "\n",
              "  Registration cn/ln  Aboard  Aboard Passangers  Aboard Crew  Fatalities  \\\n",
              "0          NaN     1     2.0                1.0          1.0         1.0   \n",
              "1          SC1   NaN     1.0                0.0          1.0         1.0   \n",
              "2          NaN   NaN     5.0                0.0          5.0         5.0   \n",
              "3          NaN   NaN     1.0                0.0          1.0         1.0   \n",
              "4          NaN   NaN    20.0                NaN          NaN        14.0   \n",
              "\n",
              "   Fatalities Passangers  Fatalities Crew  Ground  \\\n",
              "0                    1.0              0.0     0.0   \n",
              "1                    0.0              0.0     0.0   \n",
              "2                    0.0              5.0     0.0   \n",
              "3                    0.0              1.0     0.0   \n",
              "4                    NaN              NaN     0.0   \n",
              "\n",
              "                                             Summary  \n",
              "0  During a demonstration flight, a U.S. Army fly...  \n",
              "1  Eugene Lefebvre was the first pilot to ever be...  \n",
              "2  First U.S. dirigible Akron exploded just offsh...  \n",
              "3  The first fatal airplane accident in Canada oc...  \n",
              "4  The airship flew into a thunderstorm and encou...  "
            ]
          },
          "execution_count": 6,
          "metadata": {},
          "output_type": "execute_result"
        }
      ],
      "source": [
        "data.head()"
      ]
    },
    {
      "cell_type": "code",
      "execution_count": 7,
      "metadata": {
        "id": "woP3l3nuPhpg"
      },
      "outputs": [],
      "source": [
        "data= data.set_index('Date')\n",
        "\n",
        "data= data.rename(columns={\n",
        "    'Flight #':'Flight #',\n",
        "    'AC Type':'ACtype',\n",
        "    'Aboard Passangers':'Aboard_Passangers',\n",
        "    'Aboard Crew':'Aboard_Crew',\n",
        "    'Fatalities Passangers':'Fatalities_Passangers',\n",
        "    'Fatalities Crew':'Fatalities_Crew',\n",
        "})\n",
        "\n",
        "data.index=pd.to_datetime(data.index)"
      ]
    },
    {
      "cell_type": "markdown",
      "metadata": {
        "id": "gRLXwctLTp5_"
      },
      "source": [
        "#### Exploratory Data Analysis"
      ]
    },
    {
      "cell_type": "markdown",
      "metadata": {},
      "source": [
        "##### Deaths per day"
      ]
    },
    {
      "cell_type": "code",
      "execution_count": 8,
      "metadata": {
        "colab": {
          "base_uri": "https://localhost:8080/",
          "height": 816
        },
        "id": "uVNTt4wNPhpm",
        "outputId": "1e511ab0-141d-486d-bbe5-70133ad02e60"
      },
      "outputs": [
        {
          "data": {
            "image/png": "[encoded data removed]",
            "text/plain": [
              "<Figure size 1600x700 with 1 Axes>"
            ]
          },
          "metadata": {},
          "output_type": "display_data"
        }
      ],
      "source": [
        "deaths_per_day=data.groupby('Date').Fatalities.sum()\n",
        "plt.figure(figsize=(16,7))\n",
        "sns.lineplot(deaths_per_day)\n",
        "plt.suptitle('Fatalties per day')\n",
        "plt.show()"
      ]
    },
    {
      "cell_type": "markdown",
      "metadata": {},
      "source": [
        "##### Top 2 flights with the most amount of people aboard"
      ]
    },
    {
      "cell_type": "code",
      "execution_count": 9,
      "metadata": {
        "colab": {
          "base_uri": "https://localhost:8080/",
          "height": 354
        },
        "id": "b_ZsR07ePhpm",
        "outputId": "ebab070b-3d75-486e-cd61-780dbcb009f9"
      },
      "outputs": [
        {
          "data": {
            "text/html": [
              "<div>\n",
              "<style scoped>\n",
              "    .dataframe tbody tr th:only-of-type {\n",
              "        vertical-align: middle;\n",
              "    }\n",
              "\n",
              "    .dataframe tbody tr th {\n",
              "        vertical-align: top;\n",
              "    }\n",
              "\n",
              "    .dataframe thead th {\n",
              "        text-align: right;\n",
              "    }\n",
              "</style>\n",
              "<table border=\"1\" class=\"dataframe\">\n",
              "  <thead>\n",
              "    <tr style=\"text-align: right;\">\n",
              "      <th></th>\n",
              "      <th>Time</th>\n",
              "      <th>Location</th>\n",
              "      <th>Operator</th>\n",
              "      <th>Flight #</th>\n",
              "      <th>Route</th>\n",
              "      <th>ACtype</th>\n",
              "      <th>Registration</th>\n",
              "      <th>cn/ln</th>\n",
              "      <th>Aboard</th>\n",
              "      <th>Aboard_Passangers</th>\n",
              "      <th>Aboard_Crew</th>\n",
              "      <th>Fatalities</th>\n",
              "      <th>Fatalities_Passangers</th>\n",
              "      <th>Fatalities_Crew</th>\n",
              "      <th>Ground</th>\n",
              "      <th>Summary</th>\n",
              "    </tr>\n",
              "    <tr>\n",
              "      <th>Date</th>\n",
              "      <th></th>\n",
              "      <th></th>\n",
              "      <th></th>\n",
              "      <th></th>\n",
              "      <th></th>\n",
              "      <th></th>\n",
              "      <th></th>\n",
              "      <th></th>\n",
              "      <th></th>\n",
              "      <th></th>\n",
              "      <th></th>\n",
              "      <th></th>\n",
              "      <th></th>\n",
              "      <th></th>\n",
              "      <th></th>\n",
              "      <th></th>\n",
              "    </tr>\n",
              "  </thead>\n",
              "  <tbody>\n",
              "    <tr>\n",
              "      <th>1977-03-27</th>\n",
              "      <td>17:07</td>\n",
              "      <td>Tenerife, Canary Islands</td>\n",
              "      <td>Pan American World Airways / KLM</td>\n",
              "      <td>1736/4805</td>\n",
              "      <td>Tenerife - Las Palmas / Tenerife - Las Palmas</td>\n",
              "      <td>Boeing B-747-121 / Boeing B-747-206B</td>\n",
              "      <td>N736PA/PH-BUF</td>\n",
              "      <td>19643/11 / 20400/157</td>\n",
              "      <td>644.0</td>\n",
              "      <td>614.0</td>\n",
              "      <td>30.0</td>\n",
              "      <td>583.0</td>\n",
              "      <td>560.0</td>\n",
              "      <td>23.0</td>\n",
              "      <td>0.0</td>\n",
              "      <td>Both aircraft were diverted to Tenerife becaus...</td>\n",
              "    </tr>\n",
              "    <tr>\n",
              "      <th>1985-08-12</th>\n",
              "      <td>18:56</td>\n",
              "      <td>Mt. Osutaka, near Ueno Village, Japan</td>\n",
              "      <td>Japan Air Lines</td>\n",
              "      <td>123</td>\n",
              "      <td>Tokyo - Osaka</td>\n",
              "      <td>Boeing B-747-SR46</td>\n",
              "      <td>JA8119</td>\n",
              "      <td>20783/230</td>\n",
              "      <td>524.0</td>\n",
              "      <td>509.0</td>\n",
              "      <td>15.0</td>\n",
              "      <td>520.0</td>\n",
              "      <td>505.0</td>\n",
              "      <td>15.0</td>\n",
              "      <td>0.0</td>\n",
              "      <td>The aircraft suffered an aft pressure bulkhead...</td>\n",
              "    </tr>\n",
              "  </tbody>\n",
              "</table>\n",
              "</div>"
            ],
            "text/plain": [
              "             Time                               Location  \\\n",
              "Date                                                       \n",
              "1977-03-27  17:07               Tenerife, Canary Islands   \n",
              "1985-08-12  18:56  Mt. Osutaka, near Ueno Village, Japan   \n",
              "\n",
              "                                    Operator   Flight #  \\\n",
              "Date                                                      \n",
              "1977-03-27  Pan American World Airways / KLM  1736/4805   \n",
              "1985-08-12                   Japan Air Lines        123   \n",
              "\n",
              "                                                    Route  \\\n",
              "Date                                                        \n",
              "1977-03-27  Tenerife - Las Palmas / Tenerife - Las Palmas   \n",
              "1985-08-12                                  Tokyo - Osaka   \n",
              "\n",
              "                                          ACtype   Registration  \\\n",
              "Date                                                              \n",
              "1977-03-27  Boeing B-747-121 / Boeing B-747-206B  N736PA/PH-BUF   \n",
              "1985-08-12                     Boeing B-747-SR46         JA8119   \n",
              "\n",
              "                           cn/ln  Aboard  Aboard_Passangers  Aboard_Crew  \\\n",
              "Date                                                                       \n",
              "1977-03-27  19643/11 / 20400/157   644.0              614.0         30.0   \n",
              "1985-08-12             20783/230   524.0              509.0         15.0   \n",
              "\n",
              "            Fatalities  Fatalities_Passangers  Fatalities_Crew  Ground  \\\n",
              "Date                                                                     \n",
              "1977-03-27       583.0                  560.0             23.0     0.0   \n",
              "1985-08-12       520.0                  505.0             15.0     0.0   \n",
              "\n",
              "                                                      Summary  \n",
              "Date                                                           \n",
              "1977-03-27  Both aircraft were diverted to Tenerife becaus...  \n",
              "1985-08-12  The aircraft suffered an aft pressure bulkhead...  "
            ]
          },
          "execution_count": 9,
          "metadata": {},
          "output_type": "execute_result"
        }
      ],
      "source": [
        "data=data.sort_values(by='Fatalities', ascending=False)\n",
        "data.iloc[:2,:]"
      ]
    },
    {
      "cell_type": "code",
      "execution_count": 10,
      "metadata": {
        "colab": {
          "base_uri": "https://localhost:8080/"
        },
        "id": "Q4PPjNm_Phpo",
        "outputId": "29b64f1d-3eab-4e18-fbca-1f7c1ffc6a9d"
      },
      "outputs": [
        {
          "name": "stdout",
          "output_type": "stream",
          "text": [
            "------------ Flight 1 ------------\n",
            "Survivors: 61\n",
            "Proportion: 0.0947\n",
            "------------ Flight 2 ------------\n",
            "Survivors: 4\n",
            "Proportion: 0.0076\n"
          ]
        }
      ],
      "source": [
        "surv1= int(data['Aboard'].iloc[0] - data['Fatalities'].iloc[0])\n",
        "surv2= int(data['Aboard'].iloc[1] - data['Fatalities'].iloc[1])\n",
        "ratio1= 1 - (data['Fatalities'].iloc[0]/data['Aboard'].iloc[0])\n",
        "ratio2= 1 - (data['Fatalities'].iloc[1]/data['Aboard'].iloc[1])\n",
        "print(\"------------ Flight 1 ------------\")\n",
        "print(\"Survivors: {}\\nProportion: {}\".format(surv1, round(ratio1, 4)))\n",
        "print(\"------------ Flight 2 ------------\")\n",
        "print(\"Survivors: {}\\nProportion: {}\".format(surv2, round(ratio2, 4)))"
      ]
    },
    {
      "cell_type": "markdown",
      "metadata": {
        "id": "19HT-I0cUtUL"
      },
      "source": [
        "##### Deaths per Month"
      ]
    },
    {
      "cell_type": "code",
      "execution_count": 11,
      "metadata": {
        "colab": {
          "base_uri": "https://localhost:8080/",
          "height": 426
        },
        "id": "0szw_tFhPhpp",
        "outputId": "6dccd39a-995c-43b1-c96e-9850ab878924"
      },
      "outputs": [
        {
          "data": {
            "text/html": [
              "<div>\n",
              "<style scoped>\n",
              "    .dataframe tbody tr th:only-of-type {\n",
              "        vertical-align: middle;\n",
              "    }\n",
              "\n",
              "    .dataframe tbody tr th {\n",
              "        vertical-align: top;\n",
              "    }\n",
              "\n",
              "    .dataframe thead th {\n",
              "        text-align: right;\n",
              "    }\n",
              "</style>\n",
              "<table border=\"1\" class=\"dataframe\">\n",
              "  <thead>\n",
              "    <tr style=\"text-align: right;\">\n",
              "      <th></th>\n",
              "      <th>Deaths</th>\n",
              "      <th>Percentage</th>\n",
              "    </tr>\n",
              "  </thead>\n",
              "  <tbody>\n",
              "    <tr>\n",
              "      <th>Jan</th>\n",
              "      <td>9026</td>\n",
              "      <td>8.08</td>\n",
              "    </tr>\n",
              "    <tr>\n",
              "      <th>Feb</th>\n",
              "      <td>8190</td>\n",
              "      <td>7.34</td>\n",
              "    </tr>\n",
              "    <tr>\n",
              "      <th>Mar</th>\n",
              "      <td>9521</td>\n",
              "      <td>8.53</td>\n",
              "    </tr>\n",
              "    <tr>\n",
              "      <th>Apr</th>\n",
              "      <td>7291</td>\n",
              "      <td>6.53</td>\n",
              "    </tr>\n",
              "    <tr>\n",
              "      <th>May</th>\n",
              "      <td>7958</td>\n",
              "      <td>7.13</td>\n",
              "    </tr>\n",
              "    <tr>\n",
              "      <th>Jun</th>\n",
              "      <td>8466</td>\n",
              "      <td>7.58</td>\n",
              "    </tr>\n",
              "    <tr>\n",
              "      <th>Jul</th>\n",
              "      <td>10479</td>\n",
              "      <td>9.39</td>\n",
              "    </tr>\n",
              "    <tr>\n",
              "      <th>Aug</th>\n",
              "      <td>10317</td>\n",
              "      <td>9.24</td>\n",
              "    </tr>\n",
              "    <tr>\n",
              "      <th>Sep</th>\n",
              "      <td>10597</td>\n",
              "      <td>9.49</td>\n",
              "    </tr>\n",
              "    <tr>\n",
              "      <th>Oct</th>\n",
              "      <td>8435</td>\n",
              "      <td>7.56</td>\n",
              "    </tr>\n",
              "    <tr>\n",
              "      <th>Nov</th>\n",
              "      <td>10458</td>\n",
              "      <td>9.37</td>\n",
              "    </tr>\n",
              "    <tr>\n",
              "      <th>Dec</th>\n",
              "      <td>10906</td>\n",
              "      <td>9.77</td>\n",
              "    </tr>\n",
              "  </tbody>\n",
              "</table>\n",
              "</div>"
            ],
            "text/plain": [
              "     Deaths  Percentage\n",
              "Jan    9026        8.08\n",
              "Feb    8190        7.34\n",
              "Mar    9521        8.53\n",
              "Apr    7291        6.53\n",
              "May    7958        7.13\n",
              "Jun    8466        7.58\n",
              "Jul   10479        9.39\n",
              "Aug   10317        9.24\n",
              "Sep   10597        9.49\n",
              "Oct    8435        7.56\n",
              "Nov   10458        9.37\n",
              "Dec   10906        9.77"
            ]
          },
          "execution_count": 11,
          "metadata": {},
          "output_type": "execute_result"
        }
      ],
      "source": [
        "#Splitting deaths by month\n",
        "monthly_deaths=[[],[],[],[],[],[],[],[],[],[],[],[]]\n",
        "date=deaths_per_day.index\n",
        "for i in range(len(deaths_per_day)):\n",
        "    monthly_deaths[date[i].month - 1].append(deaths_per_day.iloc[i])\n",
        "\n",
        "#Sum of each month\n",
        "deaths_per_month=np.zeros(12, dtype=int)\n",
        "for i in range(12):\n",
        "    deaths_per_month[i]=int(sum(monthly_deaths[i]))\n",
        "\n",
        "#Ratio\n",
        "total_fatalites=sum(deaths_per_month)\n",
        "monthly_ratio=np.round((deaths_per_month/total_fatalites)*100, 2)\n",
        "\n",
        "#Creating Dataframe\n",
        "month_index= ['Jan', 'Feb', 'Mar', 'Apr', 'May', 'Jun', 'Jul', 'Aug', 'Sep', 'Oct', 'Nov', 'Dec']\n",
        "df=pd.DataFrame({'Deaths':deaths_per_month, 'Percentage': monthly_ratio} ,index=month_index)\n",
        "df"
      ]
    },
    {
      "cell_type": "markdown",
      "metadata": {
        "id": "jsaM-pwUUu9Y"
      },
      "source": [
        "##### Survivors per month"
      ]
    },
    {
      "cell_type": "code",
      "execution_count": 12,
      "metadata": {
        "colab": {
          "base_uri": "https://localhost:8080/",
          "height": 774
        },
        "id": "X_y0sfqaPhpq",
        "outputId": "e528844d-3346-4796-cbc1-cae1e6eb01bc"
      },
      "outputs": [
        {
          "data": {
            "image/png": "[encoded data removed]",
            "text/plain": [
              "<Figure size 1600x900 with 1 Axes>"
            ]
          },
          "metadata": {},
          "output_type": "display_data"
        }
      ],
      "source": [
        "aboard_per_day=data.groupby('Date').Aboard.sum()\n",
        "\n",
        "#Splitting per month (people aboard)\n",
        "monthly_ab=[[],[],[],[],[],[],[],[],[],[],[],[]]\n",
        "date= aboard_per_day.index\n",
        "for i in range(len(deaths_per_day)):\n",
        "    monthly_ab[date[i].month - 1].append(aboard_per_day.iloc[i])\n",
        "\n",
        "#Sum of each month\n",
        "aboard_per_month=np.zeros(12, dtype=int)\n",
        "for i in range(12):\n",
        "    aboard_per_month[i]=int(sum(monthly_ab[i]))\n",
        "\n",
        "#Ratio\n",
        "sob=aboard_per_month-deaths_per_month\n",
        "pct_sob=np.round((sob/aboard_per_month)*100, 2)\n",
        "\n",
        "#Bar Graph\n",
        "plt.figure(figsize=(16,9))\n",
        "sns.barplot(x=month_index, y=pct_sob, color='skyblue')\n",
        "\n",
        "plt.title(\"Percentage of survivors per month\")\n",
        "plt.xlabel(\"Month\")\n",
        "plt.ylabel(\"Pct %\")\n",
        "plt.show()"
      ]
    }
  ],
  "metadata": {
    "colab": {
      "provenance": []
    },
    "kernelspec": {
      "display_name": "Python 3",
      "language": "python",
      "name": "python3"
    },
    "language_info": {
      "codemirror_mode": {
        "name": "ipython",
        "version": 3
      },
      "file_extension": ".py",
      "mimetype": "text/x-python",
      "name": "python",
      "nbconvert_exporter": "python",
      "pygments_lexer": "ipython3",
      "version": "3.11.5"
    }
  },
  "nbformat": 4,
  "nbformat_minor": 0
}
